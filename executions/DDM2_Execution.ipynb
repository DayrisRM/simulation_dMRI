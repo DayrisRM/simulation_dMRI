{
  "nbformat": 4,
  "nbformat_minor": 0,
  "metadata": {
    "colab": {
      "provenance": []
    },
    "kernelspec": {
      "name": "python3",
      "display_name": "Python 3"
    },
    "language_info": {
      "name": "python"
    }
  },
  "cells": [
    {
      "cell_type": "code",
      "execution_count": null,
      "metadata": {
        "id": "DHjqHKGWSm_g"
      },
      "outputs": [],
      "source": [
        "#clonar el repo\n",
        "!git clone https://github.com/DayrisRM/DDM2"
      ]
    },
    {
      "cell_type": "code",
      "source": [
        "cd /content/DDM2/"
      ],
      "metadata": {
        "id": "Qc1yqVrsSuqk"
      },
      "execution_count": null,
      "outputs": []
    },
    {
      "cell_type": "code",
      "source": [
        "pip install -r /content/DDM2/requirements.txt"
      ],
      "metadata": {
        "id": "-ugzpaPYSwHK"
      },
      "execution_count": null,
      "outputs": []
    },
    {
      "cell_type": "code",
      "source": [
        "pip install dipy"
      ],
      "metadata": {
        "id": "1VgsXebCSxyT"
      },
      "execution_count": null,
      "outputs": []
    },
    {
      "cell_type": "markdown",
      "source": [
        "En el fichero config/hardi_150.json modificar:\n",
        "\n",
        "dataset -> train -> dataroot - poner la ruta al dataset\n",
        "\n",
        "dataset -> val -> dataroot - poner la ruta al dataset"
      ],
      "metadata": {
        "id": "sL-GWSW2UpoM"
      }
    },
    {
      "cell_type": "code",
      "source": [
        "#Fase1\n",
        "!python train_noise_model.py -p train -c config/hardi_150.json\n",
        "\n",
        "#tiene que llegar hasta la iteración 10.000. Ejemplo de mensaje\n",
        "#24-05-06 14:57:22.459 - INFO: Saving models and training states.\n",
        "#24-05-06 14:57:23.739 - INFO: Saved model in [experiments/hardi150_noisemodel_240506_132641/checkpoint/latest_gen.pth] ...  ESTE ES EL MODELO FASE1\n",
        "#24-05-06 14:57:23.761 - INFO: End of training.\n",
        "\n",
        "#Antes de ejecutar la siguiente fase, tienes que copiar la ruta del modelo de la fase1 en noise_model -> resume_state\n"
      ],
      "metadata": {
        "id": "f07pysZhS1zz"
      },
      "execution_count": null,
      "outputs": []
    },
    {
      "cell_type": "code",
      "source": [
        "#Fase2\n",
        "!python match_state.py -p train -c config/hardi_150.json"
      ],
      "metadata": {
        "id": "e89XqybzTLQU"
      },
      "execution_count": null,
      "outputs": []
    },
    {
      "cell_type": "code",
      "source": [
        "#Fase3\n",
        "!python3 train_diff_model.py -p train -c config/hardi_150.json\n",
        "\n",
        "#Esta fase tiene que llegar hasta la iteración 100.000. Ejemplo de mensaje:\n",
        "#24-05-27 16:25:53.339 - INFO: Saving models and training states.\n",
        "#24-05-27 16:25:54.377 - INFO: Saved model in [experiments/hardi150_240127_125623/checkpoint/latest_gen.pth] ...  ESTE ES EL MODELO FASE3\n",
        "#24-05-27 16:25:54.391 - INFO: End of training.\n",
        "\n",
        "#Antes de ejecutar la siguiente fase, tienes que copiar la ruta del modelo de la fase3 en noise_model -> resume_state"
      ],
      "metadata": {
        "id": "GI0Mf3EiTkO9"
      },
      "execution_count": null,
      "outputs": []
    },
    {
      "cell_type": "code",
      "source": [
        "#denoising\n",
        "!python denoise.py -c config/hardi_150.json --save\n",
        "\n",
        "#Esta fase termina con un mensaje tipo:\n",
        "#10639 done 10640 to go!!\n",
        "#saving size: (81, 106, 76, 140)\n",
        "\n",
        "#Descaragr toda la carpeta de Experiments"
      ],
      "metadata": {
        "id": "0bZp1yppUNW4"
      },
      "execution_count": null,
      "outputs": []
    }
  ]
}