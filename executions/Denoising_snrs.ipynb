{
  "cells": [
    {
      "cell_type": "code",
      "execution_count": 1,
      "metadata": {
        "colab": {
          "base_uri": "https://localhost:8080/"
        },
        "id": "OBq7a7oIzv8z",
        "outputId": "8e0faf32-ea3a-46e5-d90f-2f56b1221495"
      },
      "outputs": [
        {
          "name": "stdout",
          "output_type": "stream",
          "text": [
            "Collecting dipy\n",
            "  Downloading dipy-1.9.0-cp310-cp310-manylinux_2_17_x86_64.manylinux2014_x86_64.whl (9.0 MB)\n",
            "\u001b[2K     \u001b[90m━━━━━━━━━━━━━━━━━━━━━━━━━━━━━━━━━━━━━━━━\u001b[0m \u001b[32m9.0/9.0 MB\u001b[0m \u001b[31m31.9 MB/s\u001b[0m eta \u001b[36m0:00:00\u001b[0m\n",
            "\u001b[?25hRequirement already satisfied: numpy>=1.22.4 in /usr/local/lib/python3.10/dist-packages (from dipy) (1.25.2)\n",
            "Requirement already satisfied: scipy>=1.8 in /usr/local/lib/python3.10/dist-packages (from dipy) (1.11.4)\n",
            "Requirement already satisfied: nibabel>=3.0.0 in /usr/local/lib/python3.10/dist-packages (from dipy) (4.0.2)\n",
            "Requirement already satisfied: h5py>=3.1.0 in /usr/local/lib/python3.10/dist-packages (from dipy) (3.9.0)\n",
            "Requirement already satisfied: packaging>=21 in /usr/local/lib/python3.10/dist-packages (from dipy) (24.0)\n",
            "Requirement already satisfied: tqdm>=4.30.0 in /usr/local/lib/python3.10/dist-packages (from dipy) (4.66.4)\n",
            "Collecting trx-python>=0.2.9 (from dipy)\n",
            "  Downloading trx_python-0.2.9-py3-none-any.whl (45 kB)\n",
            "\u001b[2K     \u001b[90m━━━━━━━━━━━━━━━━━━━━━━━━━━━━━━━━━━━━━━━━\u001b[0m \u001b[32m45.5/45.5 kB\u001b[0m \u001b[31m4.0 MB/s\u001b[0m eta \u001b[36m0:00:00\u001b[0m\n",
            "\u001b[?25hRequirement already satisfied: setuptools in /usr/local/lib/python3.10/dist-packages (from nibabel>=3.0.0->dipy) (67.7.2)\n",
            "Collecting setuptools-scm (from trx-python>=0.2.9->dipy)\n",
            "  Downloading setuptools_scm-8.1.0-py3-none-any.whl (43 kB)\n",
            "\u001b[2K     \u001b[90m━━━━━━━━━━━━━━━━━━━━━━━━━━━━━━━━━━━━━━━━\u001b[0m \u001b[32m43.7/43.7 kB\u001b[0m \u001b[31m3.6 MB/s\u001b[0m eta \u001b[36m0:00:00\u001b[0m\n",
            "\u001b[?25hCollecting deepdiff (from trx-python>=0.2.9->dipy)\n",
            "  Downloading deepdiff-7.0.1-py3-none-any.whl (80 kB)\n",
            "\u001b[2K     \u001b[90m━━━━━━━━━━━━━━━━━━━━━━━━━━━━━━━━━━━━━━━━\u001b[0m \u001b[32m80.8/80.8 kB\u001b[0m \u001b[31m6.1 MB/s\u001b[0m eta \u001b[36m0:00:00\u001b[0m\n",
            "\u001b[?25hCollecting nibabel>=3.0.0 (from dipy)\n",
            "  Downloading nibabel-5.2.1-py3-none-any.whl (3.3 MB)\n",
            "\u001b[2K     \u001b[90m━━━━━━━━━━━━━━━━━━━━━━━━━━━━━━━━━━━━━━━━\u001b[0m \u001b[32m3.3/3.3 MB\u001b[0m \u001b[31m55.7 MB/s\u001b[0m eta \u001b[36m0:00:00\u001b[0m\n",
            "\u001b[?25hCollecting ordered-set<4.2.0,>=4.1.0 (from deepdiff->trx-python>=0.2.9->dipy)\n",
            "  Downloading ordered_set-4.1.0-py3-none-any.whl (7.6 kB)\n",
            "Requirement already satisfied: tomli>=1 in /usr/local/lib/python3.10/dist-packages (from setuptools-scm->trx-python>=0.2.9->dipy) (2.0.1)\n",
            "Installing collected packages: setuptools-scm, ordered-set, nibabel, deepdiff, trx-python, dipy\n",
            "  Attempting uninstall: nibabel\n",
            "    Found existing installation: nibabel 4.0.2\n",
            "    Uninstalling nibabel-4.0.2:\n",
            "      Successfully uninstalled nibabel-4.0.2\n",
            "Successfully installed deepdiff-7.0.1 dipy-1.9.0 nibabel-5.2.1 ordered-set-4.1.0 setuptools-scm-8.1.0 trx-python-0.2.9\n"
          ]
        }
      ],
      "source": [
        "pip install dipy"
      ]
    },
    {
      "cell_type": "code",
      "execution_count": 2,
      "metadata": {
        "id": "m3579lMPz2A8"
      },
      "outputs": [],
      "source": [
        "import numpy as np\n",
        "import torch\n",
        "import os\n",
        "import nibabel as nb\n",
        "from dipy.denoise.patch2self import patch2self\n",
        "import numpy as np\n",
        "import matplotlib.pyplot as plt\n",
        "from dipy.io.image import load_nifti, save_nifti\n",
        "from time import time"
      ]
    },
    {
      "cell_type": "code",
      "execution_count": 3,
      "metadata": {
        "id": "-fdeuopDz4-u"
      },
      "outputs": [],
      "source": [
        "def get_data(file, mmap=True):\n",
        "    \"\"\"\n",
        "    Load NIfTI image data from a file.\n",
        "\n",
        "    Parameters:\n",
        "        file (str): The path to the NIfTI file.\n",
        "        mmap (bool, optional): Whether to use memory-mapped file access. Default is True.\n",
        "\n",
        "    Returns:\n",
        "        numpy.ndarray: The voxel data from the NIfTI file.\n",
        "    \"\"\"\n",
        "    img = nb.load(file, mmap=mmap)\n",
        "    img_voxels = img.get_fdata()\n",
        "    return img_voxels"
      ]
    },
    {
      "cell_type": "code",
      "execution_count": 4,
      "metadata": {
        "id": "23z5ukSK0mUy"
      },
      "outputs": [],
      "source": [
        "def denoise_patch2Self(data, bvals):   \n",
        "    denoised_batch1 = patch2self(data[..., :55], bvals[:55], b0_threshold=50, b0_denoising=False, clip_negative_vals=True, shift_intensity=False)\n",
        "    denoised_batch2 = patch2self(data[..., 55:], bvals[55:], b0_threshold=50, b0_denoising=False, clip_negative_vals=True, shift_intensity=False)\n",
        "    denoised_p2s = np.concatenate((denoised_batch1, denoised_batch2), axis=3)\n",
        "    return denoised_p2s"
      ]
    },
    {
      "cell_type": "code",
      "execution_count": 5,
      "metadata": {
        "colab": {
          "base_uri": "https://localhost:8080/"
        },
        "id": "O3qFyAVHz68K",
        "outputId": "46c7bee2-a0d5-460f-cc31-56f409cef8d7"
      },
      "outputs": [
        {
          "name": "stdout",
          "output_type": "stream",
          "text": [
            "Mounted at /content/drive\n"
          ]
        }
      ],
      "source": [
        "from google.colab import drive\n",
        "drive.mount('/content/drive')"
      ]
    },
    {
      "cell_type": "code",
      "execution_count": 6,
      "metadata": {
        "id": "OHpjm6G60ZSl"
      },
      "outputs": [],
      "source": [
        "bvals = np.genfromtxt('/Simulation_data_exp6/gaussian-noise/data_b0b1b2k.txt', dtype=np.float32)"
      ]
    },
    {
      "cell_type": "code",
      "execution_count": 7,
      "metadata": {
        "colab": {
          "base_uri": "https://localhost:8080/"
        },
        "id": "Zm4OX8QCjFK7",
        "outputId": "4393b68e-90ee-49c4-f822-53b66fcc8ffe"
      },
      "outputs": [
        {
          "data": {
            "text/plain": [
              "array([   5.,    5.,    5.,    5.,    5., 1000., 1000.,  995.,  995.,\n",
              "        995., 1005., 1000.,  995., 1005.,  995.,  995., 1000., 1005.,\n",
              "       1000.,  995., 1000., 1000., 1000.,  995., 1000.,  990.,  990.,\n",
              "       1000.,  995., 1000.,  995.,  995.,  995., 1000., 1005.,  995.,\n",
              "       1000., 1000.,  995., 1000., 1000., 1005., 1005., 1005., 1000.,\n",
              "       1005., 1000.,  995., 1000., 1005., 1000.,  995., 1005., 1000.,\n",
              "       1000., 2005., 1990., 2000., 2000., 1995., 2010., 2000., 2000.,\n",
              "       1995., 2000., 1990., 2000., 1995., 1990., 1995., 1995., 2000.,\n",
              "       2000., 1990., 1990., 2000., 1995., 1995., 1995., 1995., 1995.,\n",
              "       1995., 2005., 1995., 1990., 2000., 2005., 1990., 1990., 1995.,\n",
              "       2000., 2005., 1995., 2005., 2000., 2000., 2000., 2005., 2000.,\n",
              "       2005., 2005., 2005., 1990., 1995., 1995.], dtype=float32)"
            ]
          },
          "execution_count": 7,
          "metadata": {},
          "output_type": "execute_result"
        }
      ],
      "source": [
        "bvals"
      ]
    },
    {
      "cell_type": "code",
      "execution_count": null,
      "metadata": {
        "colab": {
          "base_uri": "https://localhost:8080/"
        },
        "id": "GfJ8JI4o6HXm",
        "outputId": "899979d4-3e95-4c0b-ff06-fa31e62513df"
      },
      "outputs": [
        {
          "data": {
            "text/plain": [
              "array([ 5,  6,  7,  8,  9, 10, 11, 12, 13, 14, 15, 16, 17, 18, 19, 20, 21,\n",
              "       22, 23, 24, 25, 26, 27, 28, 29, 30, 31, 32, 33, 34, 35, 36, 37, 38,\n",
              "       39, 40, 41, 42, 43, 44, 45, 46, 47, 48, 49, 50, 51, 52, 53, 54])"
            ]
          },
          "execution_count": 14,
          "metadata": {},
          "output_type": "execute_result"
        }
      ],
      "source": [
        "indices_b1 = np.where((bvals > 100) & (bvals < 1500))[0]\n",
        "indices_b1"
      ]
    },
    {
      "cell_type": "code",
      "execution_count": null,
      "metadata": {
        "colab": {
          "base_uri": "https://localhost:8080/"
        },
        "id": "LZluiVQTnH8C",
        "outputId": "a6c4e1ad-de33-4e02-9461-22195e9894a1"
      },
      "outputs": [
        {
          "name": "stdout",
          "output_type": "stream",
          "text": [
            "[0 1 2 3 4 5 6 7 8 9]\n",
            "(55,)\n"
          ]
        }
      ],
      "source": [
        "indices_b01 = np.where(bvals < 1500)[0]\n",
        "print(indices_b01[:10])\n",
        "print(indices_b01.shape)"
      ]
    },
    {
      "cell_type": "code",
      "execution_count": null,
      "metadata": {
        "colab": {
          "base_uri": "https://localhost:8080/"
        },
        "id": "wZT8KZiBoMZ9",
        "outputId": "ef37e131-6fb2-41e7-dd4b-86ecc620030a"
      },
      "outputs": [
        {
          "name": "stdout",
          "output_type": "stream",
          "text": [
            "[55 56 57 58 59 60 61 62 63 64]\n",
            "(50,)\n",
            "2005.0\n"
          ]
        }
      ],
      "source": [
        "indices_b2 = np.where(bvals > 1500)[0]\n",
        "print(indices_b2[:10])\n",
        "print(indices_b2.shape)\n",
        "print(bvals[55])"
      ]
    },
    {
      "cell_type": "code",
      "execution_count": null,
      "metadata": {
        "colab": {
          "base_uri": "https://localhost:8080/"
        },
        "id": "jjfkBwkYpYsm",
        "outputId": "5d382472-d07f-4a03-e710-5f203a0ba248"
      },
      "outputs": [
        {
          "data": {
            "text/plain": [
              "array([   5.,    5.,    5.,    5.,    5., 1000., 1000.,  995.,  995.,\n",
              "        995., 1005., 1000.,  995., 1005.,  995.,  995., 1000., 1005.,\n",
              "       1000.,  995., 1000., 1000., 1000.,  995., 1000.,  990.,  990.,\n",
              "       1000.,  995., 1000.,  995.,  995.,  995., 1000., 1005.,  995.,\n",
              "       1000., 1000.,  995., 1000., 1000., 1005., 1005., 1005., 1000.,\n",
              "       1005., 1000.,  995., 1000., 1005., 1000.,  995., 1005., 1000.,\n",
              "       1000.], dtype=float32)"
            ]
          },
          "execution_count": 10,
          "metadata": {},
          "output_type": "execute_result"
        }
      ],
      "source": [
        "bvals[:55]"
      ]
    },
    {
      "cell_type": "code",
      "execution_count": null,
      "metadata": {
        "colab": {
          "base_uri": "https://localhost:8080/"
        },
        "id": "MnuRYXlAo9iX",
        "outputId": "dc9ad456-dff8-44d4-fff6-68398c55a6f4"
      },
      "outputs": [
        {
          "data": {
            "text/plain": [
              "array([2005., 1990., 2000., 2000., 1995., 2010., 2000., 2000., 1995.,\n",
              "       2000., 1990., 2000., 1995., 1990., 1995., 1995., 2000., 2000.,\n",
              "       1990., 1990., 2000., 1995., 1995., 1995., 1995., 1995., 1995.,\n",
              "       2005., 1995., 1990., 2000., 2005., 1990., 1990., 1995., 2000.,\n",
              "       2005., 1995., 2005., 2000., 2000., 2000., 2005., 2000., 2005.,\n",
              "       2005., 2005., 1990., 1995., 1995.], dtype=float32)"
            ]
          },
          "execution_count": 11,
          "metadata": {},
          "output_type": "execute_result"
        }
      ],
      "source": [
        "bvals[55:]"
      ]
    },
    {
      "cell_type": "code",
      "execution_count": null,
      "metadata": {
        "id": "H81irg3ojCsR"
      },
      "outputs": [],
      "source": [
        "dataset_url = f'/Simulation_data_exp6/rician-noise/main-Rician-noisy_data_snr10.nii.gz'\n",
        "noisydata_snr = get_data(dataset_url)"
      ]
    },
    {
      "cell_type": "code",
      "execution_count": null,
      "metadata": {
        "colab": {
          "base_uri": "https://localhost:8080/",
          "height": 447
        },
        "id": "khndE8x8jLot",
        "outputId": "8f5efb7b-e56a-46fe-8297-7d6ed18dc6ae"
      },
      "outputs": [
        {
          "data": {
            "text/plain": [
              "[<matplotlib.lines.Line2D at 0x7db3f9919840>]"
            ]
          },
          "execution_count": 9,
          "metadata": {},
          "output_type": "execute_result"
        },
        {
          "data": {
            "image/png": "[encoded data removed]",
            "text/plain": [
              "<Figure size 640x480 with 1 Axes>"
            ]
          },
          "metadata": {},
          "output_type": "display_data"
        }
      ],
      "source": [
        "import matplotlib.pyplot as plt\n",
        "plt.plot(noisydata_snr[24,42,36,:])"
      ]
    },
    {
      "cell_type": "code",
      "execution_count": 8,
      "metadata": {
        "id": "gCuoUeTs2Qcs"
      },
      "outputs": [],
      "source": [
        "SNRs = [10] #3,5,10,20,40"
      ]
    },
    {
      "cell_type": "code",
      "execution_count": 9,
      "metadata": {
        "colab": {
          "base_uri": "https://localhost:8080/"
        },
        "id": "Vi5SN9WL2XAJ",
        "outputId": "c02e505e-cdb6-4626-9786-16b01bf7062a"
      },
      "outputs": [
        {
          "name": "stdout",
          "output_type": "stream",
          "text": [
            "init Patch2Self snr:10\n",
            "total time 475.98563861846924\n",
            "end Patch2Self\n"
          ]
        }
      ],
      "source": [
        "for snr in SNRs:\n",
        "  dataset_url = f'/Simulation_data_exp6/gaussian-noise/main-Gaussian-noisy_data_snr{snr}.nii.gz'\n",
        "  noisydata_snr = get_data(dataset_url)\n",
        "  data, affine = load_nifti(dataset_url)\n",
        "\n",
        "  ######  Patch2Self  ######\n",
        "  print(f'init Patch2Self snr:{snr}')\n",
        "  t = time()\n",
        "  denoised_patch2self = denoise_patch2Self(noisydata_snr, bvals)\n",
        "  print(\"total time\", time() - t)\n",
        "  print('end Patch2Self')\n",
        "  #save_nifti(f'/Simulation_data_exp6/rician-noise/patch2self/denoised_main_snr{snr}-patch2self-multi-shells-7.nii.gz', denoised_patch2self, affine)"
      ]
    },
    {
      "cell_type": "markdown",
      "metadata": {
        "id": "k5U2Tp0r_urx"
      },
      "source": [
        "\n",
        "\n",
        "---\n",
        "\n",
        "MPPCA"
      ]
    },
    {
      "cell_type": "code",
      "execution_count": 10,
      "metadata": {
        "id": "61OiJVtR-dOh"
      },
      "outputs": [],
      "source": [
        "# load main pca function using Marcenko-Pastur distribution\n",
        "from dipy.denoise.localpca import mppca"
      ]
    },
    {
      "cell_type": "code",
      "execution_count": 11,
      "metadata": {
        "id": "hpSxogs-_fSH"
      },
      "outputs": [],
      "source": [
        "maskdata = get_data('/Simulation_data_exp6/gaussian-noise/nodif_brain_mask.nii.gz')"
      ]
    },
    {
      "cell_type": "code",
      "execution_count": 12,
      "metadata": {
        "colab": {
          "base_uri": "https://localhost:8080/"
        },
        "id": "FozNyb_X-gbI",
        "outputId": "228d20d4-da83-4208-aa9a-cad543b8518d"
      },
      "outputs": [
        {
          "name": "stdout",
          "output_type": "stream",
          "text": [
            "init mppca snr:10\n"
          ]
        },
        {
          "name": "stderr",
          "output_type": "stream",
          "text": [
            "/usr/local/lib/python3.10/dist-packages/dipy/denoise/localpca.py:379: RuntimeWarning: invalid value encountered in divide\n",
            "  denoised_arr = thetax / theta\n"
          ]
        },
        {
          "name": "stdout",
          "output_type": "stream",
          "text": [
            "total time 1823.6073579788208\n",
            "end mppca\n"
          ]
        }
      ],
      "source": [
        "for snr in SNRs:\n",
        "  dataset_url = f'/Simulation_data_exp6/rician-noise/main-Rician-noisy_data_snr{snr}.nii.gz'\n",
        "  noisydata_snr = get_data(dataset_url)\n",
        "  data, affine = load_nifti(dataset_url)\n",
        "\n",
        "  print(f'init mppca snr:{snr}')\n",
        "  t = time()\n",
        "  denoised_arr_ppca = mppca(data, mask=maskdata)\n",
        "  print(\"total time\", time() - t)\n",
        "  print('end mppca')\n",
        "  #save_nifti(f'/Simulation_data_exp6/rician-noise/mppca/denoised_main_snr{snr}-denoised_mppca.nii.gz', denoised_arr_ppca, affine)"
      ]
    },
    {
      "cell_type": "markdown",
      "metadata": {
        "id": "yp7VxJYfB7Az"
      },
      "source": [
        "\n",
        "\n",
        "---\n",
        "Non-Local Means (NLMEANS)\n"
      ]
    },
    {
      "cell_type": "code",
      "execution_count": 13,
      "metadata": {
        "id": "20Vh5LYDB8ax"
      },
      "outputs": [],
      "source": [
        "from dipy.denoise.nlmeans import nlmeans\n",
        "from dipy.denoise.noise_estimate import estimate_sigma"
      ]
    },
    {
      "cell_type": "code",
      "execution_count": 15,
      "metadata": {
        "colab": {
          "base_uri": "https://localhost:8080/"
        },
        "id": "237aVYV9B_6o",
        "outputId": "d1aeab52-1003-4d4d-b12d-046fa9dc7738"
      },
      "outputs": [
        {
          "name": "stdout",
          "output_type": "stream",
          "text": [
            "init nlmeans:10\n",
            "total time 57.33317732810974\n",
            "end nlmeans\n"
          ]
        }
      ],
      "source": [
        "for snr in SNRs:\n",
        "  dataset_url = f'/Simulation_data_exp6/rician-noise/main-Rician-noisy_data_snr{snr}.nii.gz'\n",
        "  noisydata_snr = get_data(dataset_url)\n",
        "  data, affine = load_nifti(dataset_url)\n",
        "\n",
        "  sigma = estimate_sigma(data, N=0)\n",
        "  print(f'init nlmeans:{snr}')\n",
        "  t = time()\n",
        "  den = nlmeans(data, sigma=sigma, mask=maskdata, patch_radius=1, block_radius=2, rician=True) #remove rician=True when is gaussian noise\n",
        "  print(\"total time\", time() - t)\n",
        "  print('end nlmeans')\n",
        "  #save_nifti(f'/Simulation_data_exp6/rician-noise/nlmeans/denoised_main_snr{snr}-denoised_nlmeans2.nii.gz', den, affine)"
      ]
    }
  ],
  "metadata": {
    "colab": {
      "provenance": []
    },
    "kernelspec": {
      "display_name": "Python 3",
      "name": "python3"
    },
    "language_info": {
      "name": "python"
    }
  },
  "nbformat": 4,
  "nbformat_minor": 0
}
